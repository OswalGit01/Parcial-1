{
  "nbformat": 4,
  "nbformat_minor": 0,
  "metadata": {
    "colab": {
      "provenance": [],
      "authorship_tag": "ABX9TyOoRgUy2lylfeRM+6e6ZEs7",
      "include_colab_link": true
    },
    "kernelspec": {
      "name": "python3",
      "display_name": "Python 3"
    },
    "language_info": {
      "name": "python"
    }
  },
  "cells": [
    {
      "cell_type": "markdown",
      "metadata": {
        "id": "view-in-github",
        "colab_type": "text"
      },
      "source": [
        "<a href=\"https://colab.research.google.com/github/OswalGit01/Parcial-1/blob/main/Parcial1OswalGomez.ipynb\" target=\"_parent\"><img src=\"https://colab.research.google.com/assets/colab-badge.svg\" alt=\"Open In Colab\"/></a>"
      ]
    },
    {
      "cell_type": "code",
      "execution_count": 65,
      "metadata": {
        "colab": {
          "base_uri": "https://localhost:8080/",
          "height": 36
        },
        "id": "5OytE_-TRhVt",
        "outputId": "c4f97578-ac57-41b0-c634-da632cffa908"
      },
      "outputs": [
        {
          "output_type": "execute_result",
          "data": {
            "text/plain": [
              "'SECCION 1: NumPy'"
            ],
            "application/vnd.google.colaboratory.intrinsic+json": {
              "type": "string"
            }
          },
          "metadata": {},
          "execution_count": 65
        }
      ],
      "source": [
        "'SECCION 1: NumPy'"
      ]
    },
    {
      "cell_type": "code",
      "source": [
        "# Punto 1.\n",
        "\n",
        "import numpy as np\n",
        "\n",
        "numeros = np.arange(1, 100)\n",
        "Multiplos7 = numeros[numeros % 7 == 0]\n",
        "print('Los multiplos de 7 en el array son:')\n",
        "print(Multiplos7)"
      ],
      "metadata": {
        "colab": {
          "base_uri": "https://localhost:8080/"
        },
        "id": "cx_Lrq-uR7RT",
        "outputId": "8f8e3d54-6c32-4025-f247-918c4607671b"
      },
      "execution_count": 66,
      "outputs": [
        {
          "output_type": "stream",
          "name": "stdout",
          "text": [
            "Los multiplos de 7 en el array son:\n",
            "[ 7 14 21 28 35 42 49 56 63 70 77 84 91 98]\n"
          ]
        }
      ]
    },
    {
      "cell_type": "code",
      "source": [
        "#Punto 2\n",
        "\n",
        "matriz1 = np.random.randint(10, 50, size=(4, 4))\n",
        "print(matriz1)\n",
        "\n",
        "matriz1[matriz1 % 2 != 0] = -1\n",
        "print('Matriz con impares reemplazados por -1:')\n",
        "print(matriz1)"
      ],
      "metadata": {
        "colab": {
          "base_uri": "https://localhost:8080/"
        },
        "id": "LAvRW2l4U38m",
        "outputId": "320b79fb-aa6f-416a-d3ac-54396f8cba48"
      },
      "execution_count": 67,
      "outputs": [
        {
          "output_type": "stream",
          "name": "stdout",
          "text": [
            "[[31 12 13 45]\n",
            " [40 43 30 38]\n",
            " [26 22 39 30]\n",
            " [44 40 27 33]]\n",
            "Matriz con impares reemplazados por -1:\n",
            "[[-1 12 -1 -1]\n",
            " [40 -1 30 38]\n",
            " [26 22 -1 30]\n",
            " [44 40 -1 -1]]\n"
          ]
        }
      ]
    },
    {
      "cell_type": "code",
      "source": [
        "#Punto 3\n",
        "\n",
        "matriz2 = np.random.uniform(0, 1, size=(5, 5))\n",
        "print(matriz2)\n",
        "\n",
        "sumacolumnas = matriz2.sum(axis=0)\n",
        "print('Suma por columnas:')\n",
        "print(sumacolumnas)"
      ],
      "metadata": {
        "colab": {
          "base_uri": "https://localhost:8080/"
        },
        "id": "vRV0_G3V7xB2",
        "outputId": "355c1054-656e-417b-e325-4daa9385dcc2"
      },
      "execution_count": 68,
      "outputs": [
        {
          "output_type": "stream",
          "name": "stdout",
          "text": [
            "[[0.55945667 0.94650511 0.11606876 0.39362844 0.89706536]\n",
            " [0.70630752 0.84896827 0.30929513 0.25434966 0.74037252]\n",
            " [0.50718058 0.85679873 0.03065077 0.1979904  0.11666382]\n",
            " [0.75324721 0.93777022 0.95200263 0.79210406 0.44270506]\n",
            " [0.43507344 0.39391207 0.28426975 0.67363225 0.0178339 ]]\n",
            "Suma por columnas:\n",
            "[2.96126542 3.98395441 1.69228704 2.3117048  2.21464066]\n"
          ]
        }
      ]
    },
    {
      "cell_type": "code",
      "source": [
        "# Punto 4\n",
        "\n",
        "arr = np.array([1, 2, 3, 4, 5])\n",
        "\n",
        "arrinvert = arr[::-1]\n",
        "\n",
        "print('Array:', arr)\n",
        "print('Array invertido:', arrinvert)"
      ],
      "metadata": {
        "colab": {
          "base_uri": "https://localhost:8080/"
        },
        "id": "fzAgcczm9wRy",
        "outputId": "9084090b-3f35-4b15-8d53-4c06c3425927"
      },
      "execution_count": 69,
      "outputs": [
        {
          "output_type": "stream",
          "name": "stdout",
          "text": [
            "Array: [1 2 3 4 5]\n",
            "Array invertido: [5 4 3 2 1]\n"
          ]
        }
      ]
    },
    {
      "cell_type": "code",
      "source": [
        "# Punto 5\n",
        "\n",
        "MatrizIdentidad = np.eye(6)\n",
        "\n",
        "matriz4 = (MatrizIdentidad * 3)\n",
        "\n",
        "print('Matriz identidad 6x6:')\n",
        "print(MatrizIdentidad)\n",
        "\n",
        "print('Matriz identidad multiplicada por 3:')\n",
        "print(matriz4)\n",
        "\n",
        "#OBSERVACION: La matriz sigue un patron donde los valores que atraviesan de forma diagonal toda la matriz se repiten omuestran una secuencia sucesiva, dodne aumenta la posición hacia la decha de la columna del siguiente valor pero tambien aumenta hacia abajo en las filas,"
      ],
      "metadata": {
        "colab": {
          "base_uri": "https://localhost:8080/"
        },
        "id": "b8UPqTzI-Clk",
        "outputId": "03fe9173-2fa3-45ad-fa2a-df745a77b22a"
      },
      "execution_count": 70,
      "outputs": [
        {
          "output_type": "stream",
          "name": "stdout",
          "text": [
            "Matriz identidad 6x6:\n",
            "[[1. 0. 0. 0. 0. 0.]\n",
            " [0. 1. 0. 0. 0. 0.]\n",
            " [0. 0. 1. 0. 0. 0.]\n",
            " [0. 0. 0. 1. 0. 0.]\n",
            " [0. 0. 0. 0. 1. 0.]\n",
            " [0. 0. 0. 0. 0. 1.]]\n",
            "Matriz identidad multiplicada por 3:\n",
            "[[3. 0. 0. 0. 0. 0.]\n",
            " [0. 3. 0. 0. 0. 0.]\n",
            " [0. 0. 3. 0. 0. 0.]\n",
            " [0. 0. 0. 3. 0. 0.]\n",
            " [0. 0. 0. 0. 3. 0.]\n",
            " [0. 0. 0. 0. 0. 3.]]\n"
          ]
        }
      ]
    },
    {
      "cell_type": "code",
      "source": [
        "# Punto 6\n",
        "\n",
        "arr1 = np.random.randint(1, 100, size=15)\n",
        "arr2 = np.sort(arr1)[::-1]\n",
        "\n",
        "print('Array original:')\n",
        "print(arr1)\n",
        "\n",
        "print('Array ordenado de mayor a menor:')\n",
        "print(arr2)"
      ],
      "metadata": {
        "colab": {
          "base_uri": "https://localhost:8080/"
        },
        "id": "lJx-zMmdBIjx",
        "outputId": "cca70901-344a-4a74-d25e-974972d89539"
      },
      "execution_count": 71,
      "outputs": [
        {
          "output_type": "stream",
          "name": "stdout",
          "text": [
            "Array original:\n",
            "[31 55 66 13 93 10 71 16 66 94 56 62 44 19 73]\n",
            "Array ordenado de mayor a menor:\n",
            "[94 93 73 71 66 66 62 56 55 44 31 19 16 13 10]\n"
          ]
        }
      ]
    },
    {
      "cell_type": "code",
      "source": [
        "# Punto 7\n",
        "\n",
        "arr3 = np.random.randint(0, 100, size=30)\n",
        "\n",
        "media1 = np.mean(arr3)\n",
        "mediana1 = np.median(arr3)\n",
        "desviacion1 = np.std(arr3)\n",
        "\n",
        "print(\"Array de valores:\")\n",
        "print(arr3)\n",
        "\n",
        "print('La media es:', media1 )\n",
        "print('La mediana es:', mediana1)\n",
        "print('La desviación estándar es:', desviacion1)"
      ],
      "metadata": {
        "colab": {
          "base_uri": "https://localhost:8080/"
        },
        "id": "PBARJxU3B9Z3",
        "outputId": "28c9ffea-5aaa-400d-811b-60b1ebed64cf"
      },
      "execution_count": 72,
      "outputs": [
        {
          "output_type": "stream",
          "name": "stdout",
          "text": [
            "Array de valores:\n",
            "[38 20 99 86 30 47 29 21 86 53 67 90 78 88 88 89 56 82 86 66  5 32 22 50\n",
            " 33 10 52  0 20 83]\n",
            "La media es: 53.53333333333333\n",
            "La mediana es: 52.5\n",
            "La desviación estándar es: 29.760973699722186\n"
          ]
        }
      ]
    },
    {
      "cell_type": "code",
      "source": [
        "# Punto 8\n",
        "\n",
        "matriz5 = np.random.randint(0, 100, size=(6, 3))\n",
        "\n",
        "promfila = np.mean(matriz5, axis=1)\n",
        "\n",
        "minim1 = np.argmin(promfila)\n",
        "\n",
        "matriz5[minim1] = 0\n",
        "\n",
        "print('Matriz modificada:')\n",
        "print(matriz5)\n",
        "\n",
        "print('La fila', minim1, 'tenía el menor promedio.')"
      ],
      "metadata": {
        "colab": {
          "base_uri": "https://localhost:8080/"
        },
        "id": "H-jPIdgEDTkn",
        "outputId": "f7233f41-d9dd-4945-8725-0181ea5b228e"
      },
      "execution_count": 73,
      "outputs": [
        {
          "output_type": "stream",
          "name": "stdout",
          "text": [
            "Matriz modificada:\n",
            "[[71 50 15]\n",
            " [69 41 85]\n",
            " [69 53 95]\n",
            " [ 1 89 61]\n",
            " [ 8 59 45]\n",
            " [ 0  0  0]]\n",
            "La fila 5 tenía el menor promedio.\n"
          ]
        }
      ]
    },
    {
      "cell_type": "code",
      "source": [
        "# Punto 9\n",
        "\n",
        "arr4 = np.random.randint(1, 20, size=(3, 4))\n",
        "\n",
        "print('Array:')\n",
        "print(arr4)\n",
        "\n",
        "cumsum1 = np.cumsum(arr4, axis=1)\n",
        "\n",
        "print('Cumsum por filas:')\n",
        "print(cumsum1)"
      ],
      "metadata": {
        "colab": {
          "base_uri": "https://localhost:8080/"
        },
        "id": "WWpQ-pFaTfut",
        "outputId": "a1a4a393-13da-4ea1-c4be-8db7fceb56e6"
      },
      "execution_count": 74,
      "outputs": [
        {
          "output_type": "stream",
          "name": "stdout",
          "text": [
            "Array:\n",
            "[[12 17  4 17]\n",
            " [ 7 16  7 19]\n",
            " [15 13 12  4]]\n",
            "Cumsum por filas:\n",
            "[[12 29 33 50]\n",
            " [ 7 23 30 49]\n",
            " [15 28 40 44]]\n"
          ]
        }
      ]
    },
    {
      "cell_type": "code",
      "source": [
        "# Punto 10\n",
        "\n",
        "arr5 = np.array([[10, 20, 30], [40, 50, 60], [70, 80, 90]])\n",
        "\n",
        "diagonal1 = np.diag(arr5)\n",
        "\n",
        "print('Diagonal principal:')\n",
        "print(diagonal1)"
      ],
      "metadata": {
        "colab": {
          "base_uri": "https://localhost:8080/"
        },
        "id": "nRG8HKccUetL",
        "outputId": "f144ba64-69dc-42a7-e810-55ff102bd027"
      },
      "execution_count": 75,
      "outputs": [
        {
          "output_type": "stream",
          "name": "stdout",
          "text": [
            "Diagonal principal:\n",
            "[10 50 90]\n"
          ]
        }
      ]
    },
    {
      "cell_type": "code",
      "source": [
        "'SECCION : Pandas'"
      ],
      "metadata": {
        "id": "8eBW4E2GU6rr",
        "colab": {
          "base_uri": "https://localhost:8080/",
          "height": 36
        },
        "outputId": "97735aba-bb8b-4f0e-8e63-7e626df69218"
      },
      "execution_count": 76,
      "outputs": [
        {
          "output_type": "execute_result",
          "data": {
            "text/plain": [
              "'SECCION : Pandas'"
            ],
            "application/vnd.google.colaboratory.intrinsic+json": {
              "type": "string"
            }
          },
          "metadata": {},
          "execution_count": 76
        }
      ]
    },
    {
      "cell_type": "code",
      "source": [
        "# Datos para los siguientes puntos de esta sección.\n",
        "\n",
        "Datos1 = {'Nombre': ['Pedro', 'Mariana', 'Andres', 'Laura', 'Felipe', 'Carlos', 'Alex'],\n",
        "    'Edad':[32, 28, 45, 37, 22, 23, 30],\n",
        "    'Ciudad':['Medellin', 'Bogotá', 'Bogota', 'Medellin', 'Pereira', 'Medellin', 'Medellín'],\n",
        "    'Salario' :[2100000, 1800000, 3200000, 2500000, 1900000, 2100000, 1850000]}"
      ],
      "metadata": {
        "id": "jMlnWGwna-hU"
      },
      "execution_count": 77,
      "outputs": []
    },
    {
      "cell_type": "code",
      "source": [
        "# Punto 11\n",
        "\n",
        "import pandas as pd\n",
        "\n",
        "df1 = pd.DataFrame(Datos1)\n",
        "print('df1')\n",
        "print(df1)\n",
        "\n",
        "salariofiltrado = df1[df1['Salario'] > 2000000]\n",
        "print('Filtrado por salarios mayores a 2000000:')\n",
        "print(salariofiltrado)"
      ],
      "metadata": {
        "id": "e0NAAvZ9U7KV",
        "colab": {
          "base_uri": "https://localhost:8080/"
        },
        "outputId": "bff36893-1e6d-4146-ce65-d91056dda188"
      },
      "execution_count": 78,
      "outputs": [
        {
          "output_type": "stream",
          "name": "stdout",
          "text": [
            "df1\n",
            "    Nombre  Edad    Ciudad  Salario\n",
            "0    Pedro    32  Medellin  2100000\n",
            "1  Mariana    28    Bogotá  1800000\n",
            "2   Andres    45    Bogota  3200000\n",
            "3    Laura    37  Medellin  2500000\n",
            "4   Felipe    22   Pereira  1900000\n",
            "5   Carlos    23  Medellin  2100000\n",
            "6     Alex    30  Medellín  1850000\n",
            "Filtrado por salarios mayores a 2000000:\n",
            "   Nombre  Edad    Ciudad  Salario\n",
            "0   Pedro    32  Medellin  2100000\n",
            "2  Andres    45    Bogota  3200000\n",
            "3   Laura    37  Medellin  2500000\n",
            "5  Carlos    23  Medellin  2100000\n"
          ]
        }
      ]
    },
    {
      "cell_type": "code",
      "source": [
        "# Punto 12\n",
        "\n",
        "df2 = pd.read_csv(\"DBPARCIAL1.csv\")\n",
        "print('Dataframe')\n",
        "print(df2)\n"
      ],
      "metadata": {
        "colab": {
          "base_uri": "https://localhost:8080/"
        },
        "id": "wXSxEyiBdEuH",
        "outputId": "00c354d3-2b6b-47bc-83d7-c89194437ad9"
      },
      "execution_count": 79,
      "outputs": [
        {
          "output_type": "stream",
          "name": "stdout",
          "text": [
            "Dataframe\n",
            "     vigencia nombre_comuna_o_corregimiento rango_edades  genero_masculino  \\\n",
            "0        2020                      COMUNA 1        00-04               796   \n",
            "1        2020                      COMUNA 1        05-09               801   \n",
            "2        2020                      COMUNA 1        10-14               830   \n",
            "3        2020                      COMUNA 1        15-19               917   \n",
            "4        2020                      COMUNA 1        20-24               989   \n",
            "..        ...                           ...          ...               ...   \n",
            "289      2020                  LAS MARCADAS        80-84                24   \n",
            "290      2020                  LAS MARCADAS        85-89                13   \n",
            "291      2020                  LAS MARCADAS        90-94                 6   \n",
            "292      2020                  LAS MARCADAS        95-99                 3   \n",
            "293      2020                  LAS MARCADAS    100 o mas                 1   \n",
            "\n",
            "     genero_femenino  poblacion_estimada_global  \n",
            "0                790                       1586  \n",
            "1                778                       1579  \n",
            "2                803                       1633  \n",
            "3                916                       1833  \n",
            "4               1039                       2028  \n",
            "..               ...                        ...  \n",
            "289               35                         59  \n",
            "290               19                         32  \n",
            "291               10                         16  \n",
            "292                3                          6  \n",
            "293                1                          2  \n",
            "\n",
            "[294 rows x 6 columns]\n"
          ]
        }
      ]
    },
    {
      "cell_type": "code",
      "source": [
        "df2.head(10)"
      ],
      "metadata": {
        "colab": {
          "base_uri": "https://localhost:8080/",
          "height": 363
        },
        "id": "4_Lu2UHUkQA0",
        "outputId": "d82d2f09-ce82-424d-ae69-da6171199049"
      },
      "execution_count": 80,
      "outputs": [
        {
          "output_type": "execute_result",
          "data": {
            "text/plain": [
              "   vigencia nombre_comuna_o_corregimiento rango_edades  genero_masculino  \\\n",
              "0      2020                      COMUNA 1        00-04               796   \n",
              "1      2020                      COMUNA 1        05-09               801   \n",
              "2      2020                      COMUNA 1        10-14               830   \n",
              "3      2020                      COMUNA 1        15-19               917   \n",
              "4      2020                      COMUNA 1        20-24               989   \n",
              "5      2020                      COMUNA 1        25-29               986   \n",
              "6      2020                      COMUNA 1        30-34               919   \n",
              "7      2020                      COMUNA 1        35-39               907   \n",
              "8      2020                      COMUNA 1        40-44               813   \n",
              "9      2020                      COMUNA 1        45-49               724   \n",
              "\n",
              "   genero_femenino  poblacion_estimada_global  \n",
              "0              790                       1586  \n",
              "1              778                       1579  \n",
              "2              803                       1633  \n",
              "3              916                       1833  \n",
              "4             1039                       2028  \n",
              "5             1103                       2089  \n",
              "6             1047                       1966  \n",
              "7             1026                       1933  \n",
              "8              924                       1737  \n",
              "9              852                       1576  "
            ],
            "text/html": [
              "\n",
              "  <div id=\"df-dd7a0bc7-1413-4865-a9c4-d7081b5ed3e6\" class=\"colab-df-container\">\n",
              "    <div>\n",
              "<style scoped>\n",
              "    .dataframe tbody tr th:only-of-type {\n",
              "        vertical-align: middle;\n",
              "    }\n",
              "\n",
              "    .dataframe tbody tr th {\n",
              "        vertical-align: top;\n",
              "    }\n",
              "\n",
              "    .dataframe thead th {\n",
              "        text-align: right;\n",
              "    }\n",
              "</style>\n",
              "<table border=\"1\" class=\"dataframe\">\n",
              "  <thead>\n",
              "    <tr style=\"text-align: right;\">\n",
              "      <th></th>\n",
              "      <th>vigencia</th>\n",
              "      <th>nombre_comuna_o_corregimiento</th>\n",
              "      <th>rango_edades</th>\n",
              "      <th>genero_masculino</th>\n",
              "      <th>genero_femenino</th>\n",
              "      <th>poblacion_estimada_global</th>\n",
              "    </tr>\n",
              "  </thead>\n",
              "  <tbody>\n",
              "    <tr>\n",
              "      <th>0</th>\n",
              "      <td>2020</td>\n",
              "      <td>COMUNA 1</td>\n",
              "      <td>00-04</td>\n",
              "      <td>796</td>\n",
              "      <td>790</td>\n",
              "      <td>1586</td>\n",
              "    </tr>\n",
              "    <tr>\n",
              "      <th>1</th>\n",
              "      <td>2020</td>\n",
              "      <td>COMUNA 1</td>\n",
              "      <td>05-09</td>\n",
              "      <td>801</td>\n",
              "      <td>778</td>\n",
              "      <td>1579</td>\n",
              "    </tr>\n",
              "    <tr>\n",
              "      <th>2</th>\n",
              "      <td>2020</td>\n",
              "      <td>COMUNA 1</td>\n",
              "      <td>10-14</td>\n",
              "      <td>830</td>\n",
              "      <td>803</td>\n",
              "      <td>1633</td>\n",
              "    </tr>\n",
              "    <tr>\n",
              "      <th>3</th>\n",
              "      <td>2020</td>\n",
              "      <td>COMUNA 1</td>\n",
              "      <td>15-19</td>\n",
              "      <td>917</td>\n",
              "      <td>916</td>\n",
              "      <td>1833</td>\n",
              "    </tr>\n",
              "    <tr>\n",
              "      <th>4</th>\n",
              "      <td>2020</td>\n",
              "      <td>COMUNA 1</td>\n",
              "      <td>20-24</td>\n",
              "      <td>989</td>\n",
              "      <td>1039</td>\n",
              "      <td>2028</td>\n",
              "    </tr>\n",
              "    <tr>\n",
              "      <th>5</th>\n",
              "      <td>2020</td>\n",
              "      <td>COMUNA 1</td>\n",
              "      <td>25-29</td>\n",
              "      <td>986</td>\n",
              "      <td>1103</td>\n",
              "      <td>2089</td>\n",
              "    </tr>\n",
              "    <tr>\n",
              "      <th>6</th>\n",
              "      <td>2020</td>\n",
              "      <td>COMUNA 1</td>\n",
              "      <td>30-34</td>\n",
              "      <td>919</td>\n",
              "      <td>1047</td>\n",
              "      <td>1966</td>\n",
              "    </tr>\n",
              "    <tr>\n",
              "      <th>7</th>\n",
              "      <td>2020</td>\n",
              "      <td>COMUNA 1</td>\n",
              "      <td>35-39</td>\n",
              "      <td>907</td>\n",
              "      <td>1026</td>\n",
              "      <td>1933</td>\n",
              "    </tr>\n",
              "    <tr>\n",
              "      <th>8</th>\n",
              "      <td>2020</td>\n",
              "      <td>COMUNA 1</td>\n",
              "      <td>40-44</td>\n",
              "      <td>813</td>\n",
              "      <td>924</td>\n",
              "      <td>1737</td>\n",
              "    </tr>\n",
              "    <tr>\n",
              "      <th>9</th>\n",
              "      <td>2020</td>\n",
              "      <td>COMUNA 1</td>\n",
              "      <td>45-49</td>\n",
              "      <td>724</td>\n",
              "      <td>852</td>\n",
              "      <td>1576</td>\n",
              "    </tr>\n",
              "  </tbody>\n",
              "</table>\n",
              "</div>\n",
              "    <div class=\"colab-df-buttons\">\n",
              "\n",
              "  <div class=\"colab-df-container\">\n",
              "    <button class=\"colab-df-convert\" onclick=\"convertToInteractive('df-dd7a0bc7-1413-4865-a9c4-d7081b5ed3e6')\"\n",
              "            title=\"Convert this dataframe to an interactive table.\"\n",
              "            style=\"display:none;\">\n",
              "\n",
              "  <svg xmlns=\"http://www.w3.org/2000/svg\" height=\"24px\" viewBox=\"0 -960 960 960\">\n",
              "    <path d=\"M120-120v-720h720v720H120Zm60-500h600v-160H180v160Zm220 220h160v-160H400v160Zm0 220h160v-160H400v160ZM180-400h160v-160H180v160Zm440 0h160v-160H620v160ZM180-180h160v-160H180v160Zm440 0h160v-160H620v160Z\"/>\n",
              "  </svg>\n",
              "    </button>\n",
              "\n",
              "  <style>\n",
              "    .colab-df-container {\n",
              "      display:flex;\n",
              "      gap: 12px;\n",
              "    }\n",
              "\n",
              "    .colab-df-convert {\n",
              "      background-color: #E8F0FE;\n",
              "      border: none;\n",
              "      border-radius: 50%;\n",
              "      cursor: pointer;\n",
              "      display: none;\n",
              "      fill: #1967D2;\n",
              "      height: 32px;\n",
              "      padding: 0 0 0 0;\n",
              "      width: 32px;\n",
              "    }\n",
              "\n",
              "    .colab-df-convert:hover {\n",
              "      background-color: #E2EBFA;\n",
              "      box-shadow: 0px 1px 2px rgba(60, 64, 67, 0.3), 0px 1px 3px 1px rgba(60, 64, 67, 0.15);\n",
              "      fill: #174EA6;\n",
              "    }\n",
              "\n",
              "    .colab-df-buttons div {\n",
              "      margin-bottom: 4px;\n",
              "    }\n",
              "\n",
              "    [theme=dark] .colab-df-convert {\n",
              "      background-color: #3B4455;\n",
              "      fill: #D2E3FC;\n",
              "    }\n",
              "\n",
              "    [theme=dark] .colab-df-convert:hover {\n",
              "      background-color: #434B5C;\n",
              "      box-shadow: 0px 1px 3px 1px rgba(0, 0, 0, 0.15);\n",
              "      filter: drop-shadow(0px 1px 2px rgba(0, 0, 0, 0.3));\n",
              "      fill: #FFFFFF;\n",
              "    }\n",
              "  </style>\n",
              "\n",
              "    <script>\n",
              "      const buttonEl =\n",
              "        document.querySelector('#df-dd7a0bc7-1413-4865-a9c4-d7081b5ed3e6 button.colab-df-convert');\n",
              "      buttonEl.style.display =\n",
              "        google.colab.kernel.accessAllowed ? 'block' : 'none';\n",
              "\n",
              "      async function convertToInteractive(key) {\n",
              "        const element = document.querySelector('#df-dd7a0bc7-1413-4865-a9c4-d7081b5ed3e6');\n",
              "        const dataTable =\n",
              "          await google.colab.kernel.invokeFunction('convertToInteractive',\n",
              "                                                    [key], {});\n",
              "        if (!dataTable) return;\n",
              "\n",
              "        const docLinkHtml = 'Like what you see? Visit the ' +\n",
              "          '<a target=\"_blank\" href=https://colab.research.google.com/notebooks/data_table.ipynb>data table notebook</a>'\n",
              "          + ' to learn more about interactive tables.';\n",
              "        element.innerHTML = '';\n",
              "        dataTable['output_type'] = 'display_data';\n",
              "        await google.colab.output.renderOutput(dataTable, element);\n",
              "        const docLink = document.createElement('div');\n",
              "        docLink.innerHTML = docLinkHtml;\n",
              "        element.appendChild(docLink);\n",
              "      }\n",
              "    </script>\n",
              "  </div>\n",
              "\n",
              "\n",
              "    <div id=\"df-9b2d7ed9-34a5-47ff-8c41-a1e94d148e46\">\n",
              "      <button class=\"colab-df-quickchart\" onclick=\"quickchart('df-9b2d7ed9-34a5-47ff-8c41-a1e94d148e46')\"\n",
              "                title=\"Suggest charts\"\n",
              "                style=\"display:none;\">\n",
              "\n",
              "<svg xmlns=\"http://www.w3.org/2000/svg\" height=\"24px\"viewBox=\"0 0 24 24\"\n",
              "     width=\"24px\">\n",
              "    <g>\n",
              "        <path d=\"M19 3H5c-1.1 0-2 .9-2 2v14c0 1.1.9 2 2 2h14c1.1 0 2-.9 2-2V5c0-1.1-.9-2-2-2zM9 17H7v-7h2v7zm4 0h-2V7h2v10zm4 0h-2v-4h2v4z\"/>\n",
              "    </g>\n",
              "</svg>\n",
              "      </button>\n",
              "\n",
              "<style>\n",
              "  .colab-df-quickchart {\n",
              "      --bg-color: #E8F0FE;\n",
              "      --fill-color: #1967D2;\n",
              "      --hover-bg-color: #E2EBFA;\n",
              "      --hover-fill-color: #174EA6;\n",
              "      --disabled-fill-color: #AAA;\n",
              "      --disabled-bg-color: #DDD;\n",
              "  }\n",
              "\n",
              "  [theme=dark] .colab-df-quickchart {\n",
              "      --bg-color: #3B4455;\n",
              "      --fill-color: #D2E3FC;\n",
              "      --hover-bg-color: #434B5C;\n",
              "      --hover-fill-color: #FFFFFF;\n",
              "      --disabled-bg-color: #3B4455;\n",
              "      --disabled-fill-color: #666;\n",
              "  }\n",
              "\n",
              "  .colab-df-quickchart {\n",
              "    background-color: var(--bg-color);\n",
              "    border: none;\n",
              "    border-radius: 50%;\n",
              "    cursor: pointer;\n",
              "    display: none;\n",
              "    fill: var(--fill-color);\n",
              "    height: 32px;\n",
              "    padding: 0;\n",
              "    width: 32px;\n",
              "  }\n",
              "\n",
              "  .colab-df-quickchart:hover {\n",
              "    background-color: var(--hover-bg-color);\n",
              "    box-shadow: 0 1px 2px rgba(60, 64, 67, 0.3), 0 1px 3px 1px rgba(60, 64, 67, 0.15);\n",
              "    fill: var(--button-hover-fill-color);\n",
              "  }\n",
              "\n",
              "  .colab-df-quickchart-complete:disabled,\n",
              "  .colab-df-quickchart-complete:disabled:hover {\n",
              "    background-color: var(--disabled-bg-color);\n",
              "    fill: var(--disabled-fill-color);\n",
              "    box-shadow: none;\n",
              "  }\n",
              "\n",
              "  .colab-df-spinner {\n",
              "    border: 2px solid var(--fill-color);\n",
              "    border-color: transparent;\n",
              "    border-bottom-color: var(--fill-color);\n",
              "    animation:\n",
              "      spin 1s steps(1) infinite;\n",
              "  }\n",
              "\n",
              "  @keyframes spin {\n",
              "    0% {\n",
              "      border-color: transparent;\n",
              "      border-bottom-color: var(--fill-color);\n",
              "      border-left-color: var(--fill-color);\n",
              "    }\n",
              "    20% {\n",
              "      border-color: transparent;\n",
              "      border-left-color: var(--fill-color);\n",
              "      border-top-color: var(--fill-color);\n",
              "    }\n",
              "    30% {\n",
              "      border-color: transparent;\n",
              "      border-left-color: var(--fill-color);\n",
              "      border-top-color: var(--fill-color);\n",
              "      border-right-color: var(--fill-color);\n",
              "    }\n",
              "    40% {\n",
              "      border-color: transparent;\n",
              "      border-right-color: var(--fill-color);\n",
              "      border-top-color: var(--fill-color);\n",
              "    }\n",
              "    60% {\n",
              "      border-color: transparent;\n",
              "      border-right-color: var(--fill-color);\n",
              "    }\n",
              "    80% {\n",
              "      border-color: transparent;\n",
              "      border-right-color: var(--fill-color);\n",
              "      border-bottom-color: var(--fill-color);\n",
              "    }\n",
              "    90% {\n",
              "      border-color: transparent;\n",
              "      border-bottom-color: var(--fill-color);\n",
              "    }\n",
              "  }\n",
              "</style>\n",
              "\n",
              "      <script>\n",
              "        async function quickchart(key) {\n",
              "          const quickchartButtonEl =\n",
              "            document.querySelector('#' + key + ' button');\n",
              "          quickchartButtonEl.disabled = true;  // To prevent multiple clicks.\n",
              "          quickchartButtonEl.classList.add('colab-df-spinner');\n",
              "          try {\n",
              "            const charts = await google.colab.kernel.invokeFunction(\n",
              "                'suggestCharts', [key], {});\n",
              "          } catch (error) {\n",
              "            console.error('Error during call to suggestCharts:', error);\n",
              "          }\n",
              "          quickchartButtonEl.classList.remove('colab-df-spinner');\n",
              "          quickchartButtonEl.classList.add('colab-df-quickchart-complete');\n",
              "        }\n",
              "        (() => {\n",
              "          let quickchartButtonEl =\n",
              "            document.querySelector('#df-9b2d7ed9-34a5-47ff-8c41-a1e94d148e46 button');\n",
              "          quickchartButtonEl.style.display =\n",
              "            google.colab.kernel.accessAllowed ? 'block' : 'none';\n",
              "        })();\n",
              "      </script>\n",
              "    </div>\n",
              "\n",
              "    </div>\n",
              "  </div>\n"
            ],
            "application/vnd.google.colaboratory.intrinsic+json": {
              "type": "dataframe",
              "variable_name": "df2",
              "summary": "{\n  \"name\": \"df2\",\n  \"rows\": 294,\n  \"fields\": [\n    {\n      \"column\": \"vigencia\",\n      \"properties\": {\n        \"dtype\": \"number\",\n        \"std\": 0,\n        \"min\": 2020,\n        \"max\": 2020,\n        \"num_unique_values\": 1,\n        \"samples\": [\n          2020\n        ],\n        \"semantic_type\": \"\",\n        \"description\": \"\"\n      }\n    },\n    {\n      \"column\": \"nombre_comuna_o_corregimiento\",\n      \"properties\": {\n        \"dtype\": \"category\",\n        \"num_unique_values\": 14,\n        \"samples\": [\n          \"COMUNA 10\"\n        ],\n        \"semantic_type\": \"\",\n        \"description\": \"\"\n      }\n    },\n    {\n      \"column\": \"rango_edades\",\n      \"properties\": {\n        \"dtype\": \"category\",\n        \"num_unique_values\": 21,\n        \"samples\": [\n          \"00-04\"\n        ],\n        \"semantic_type\": \"\",\n        \"description\": \"\"\n      }\n    },\n    {\n      \"column\": \"genero_masculino\",\n      \"properties\": {\n        \"dtype\": \"number\",\n        \"std\": 318,\n        \"min\": 1,\n        \"max\": 1522,\n        \"num_unique_values\": 236,\n        \"samples\": [\n          377\n        ],\n        \"semantic_type\": \"\",\n        \"description\": \"\"\n      }\n    },\n    {\n      \"column\": \"genero_femenino\",\n      \"properties\": {\n        \"dtype\": \"number\",\n        \"std\": 347,\n        \"min\": 1,\n        \"max\": 1698,\n        \"num_unique_values\": 242,\n        \"samples\": [\n          1409\n        ],\n        \"semantic_type\": \"\",\n        \"description\": \"\"\n      }\n    },\n    {\n      \"column\": \"poblacion_estimada_global\",\n      \"properties\": {\n        \"dtype\": \"number\",\n        \"std\": 664,\n        \"min\": 2,\n        \"max\": 3215,\n        \"num_unique_values\": 256,\n        \"samples\": [\n          390\n        ],\n        \"semantic_type\": \"\",\n        \"description\": \"\"\n      }\n    }\n  ]\n}"
            }
          },
          "metadata": {},
          "execution_count": 80
        }
      ]
    },
    {
      "cell_type": "code",
      "source": [
        "df2.tail(5)"
      ],
      "metadata": {
        "colab": {
          "base_uri": "https://localhost:8080/",
          "height": 206
        },
        "id": "Dy6SXBnPlDbA",
        "outputId": "5e39099d-6588-463e-caa0-21317ecc08d5"
      },
      "execution_count": 81,
      "outputs": [
        {
          "output_type": "execute_result",
          "data": {
            "text/plain": [
              "     vigencia nombre_comuna_o_corregimiento rango_edades  genero_masculino  \\\n",
              "289      2020                  LAS MARCADAS        80-84                24   \n",
              "290      2020                  LAS MARCADAS        85-89                13   \n",
              "291      2020                  LAS MARCADAS        90-94                 6   \n",
              "292      2020                  LAS MARCADAS        95-99                 3   \n",
              "293      2020                  LAS MARCADAS    100 o mas                 1   \n",
              "\n",
              "     genero_femenino  poblacion_estimada_global  \n",
              "289               35                         59  \n",
              "290               19                         32  \n",
              "291               10                         16  \n",
              "292                3                          6  \n",
              "293                1                          2  "
            ],
            "text/html": [
              "\n",
              "  <div id=\"df-7ca4864c-f8cd-419b-b9e7-8eb2d223fd4f\" class=\"colab-df-container\">\n",
              "    <div>\n",
              "<style scoped>\n",
              "    .dataframe tbody tr th:only-of-type {\n",
              "        vertical-align: middle;\n",
              "    }\n",
              "\n",
              "    .dataframe tbody tr th {\n",
              "        vertical-align: top;\n",
              "    }\n",
              "\n",
              "    .dataframe thead th {\n",
              "        text-align: right;\n",
              "    }\n",
              "</style>\n",
              "<table border=\"1\" class=\"dataframe\">\n",
              "  <thead>\n",
              "    <tr style=\"text-align: right;\">\n",
              "      <th></th>\n",
              "      <th>vigencia</th>\n",
              "      <th>nombre_comuna_o_corregimiento</th>\n",
              "      <th>rango_edades</th>\n",
              "      <th>genero_masculino</th>\n",
              "      <th>genero_femenino</th>\n",
              "      <th>poblacion_estimada_global</th>\n",
              "    </tr>\n",
              "  </thead>\n",
              "  <tbody>\n",
              "    <tr>\n",
              "      <th>289</th>\n",
              "      <td>2020</td>\n",
              "      <td>LAS MARCADAS</td>\n",
              "      <td>80-84</td>\n",
              "      <td>24</td>\n",
              "      <td>35</td>\n",
              "      <td>59</td>\n",
              "    </tr>\n",
              "    <tr>\n",
              "      <th>290</th>\n",
              "      <td>2020</td>\n",
              "      <td>LAS MARCADAS</td>\n",
              "      <td>85-89</td>\n",
              "      <td>13</td>\n",
              "      <td>19</td>\n",
              "      <td>32</td>\n",
              "    </tr>\n",
              "    <tr>\n",
              "      <th>291</th>\n",
              "      <td>2020</td>\n",
              "      <td>LAS MARCADAS</td>\n",
              "      <td>90-94</td>\n",
              "      <td>6</td>\n",
              "      <td>10</td>\n",
              "      <td>16</td>\n",
              "    </tr>\n",
              "    <tr>\n",
              "      <th>292</th>\n",
              "      <td>2020</td>\n",
              "      <td>LAS MARCADAS</td>\n",
              "      <td>95-99</td>\n",
              "      <td>3</td>\n",
              "      <td>3</td>\n",
              "      <td>6</td>\n",
              "    </tr>\n",
              "    <tr>\n",
              "      <th>293</th>\n",
              "      <td>2020</td>\n",
              "      <td>LAS MARCADAS</td>\n",
              "      <td>100 o mas</td>\n",
              "      <td>1</td>\n",
              "      <td>1</td>\n",
              "      <td>2</td>\n",
              "    </tr>\n",
              "  </tbody>\n",
              "</table>\n",
              "</div>\n",
              "    <div class=\"colab-df-buttons\">\n",
              "\n",
              "  <div class=\"colab-df-container\">\n",
              "    <button class=\"colab-df-convert\" onclick=\"convertToInteractive('df-7ca4864c-f8cd-419b-b9e7-8eb2d223fd4f')\"\n",
              "            title=\"Convert this dataframe to an interactive table.\"\n",
              "            style=\"display:none;\">\n",
              "\n",
              "  <svg xmlns=\"http://www.w3.org/2000/svg\" height=\"24px\" viewBox=\"0 -960 960 960\">\n",
              "    <path d=\"M120-120v-720h720v720H120Zm60-500h600v-160H180v160Zm220 220h160v-160H400v160Zm0 220h160v-160H400v160ZM180-400h160v-160H180v160Zm440 0h160v-160H620v160ZM180-180h160v-160H180v160Zm440 0h160v-160H620v160Z\"/>\n",
              "  </svg>\n",
              "    </button>\n",
              "\n",
              "  <style>\n",
              "    .colab-df-container {\n",
              "      display:flex;\n",
              "      gap: 12px;\n",
              "    }\n",
              "\n",
              "    .colab-df-convert {\n",
              "      background-color: #E8F0FE;\n",
              "      border: none;\n",
              "      border-radius: 50%;\n",
              "      cursor: pointer;\n",
              "      display: none;\n",
              "      fill: #1967D2;\n",
              "      height: 32px;\n",
              "      padding: 0 0 0 0;\n",
              "      width: 32px;\n",
              "    }\n",
              "\n",
              "    .colab-df-convert:hover {\n",
              "      background-color: #E2EBFA;\n",
              "      box-shadow: 0px 1px 2px rgba(60, 64, 67, 0.3), 0px 1px 3px 1px rgba(60, 64, 67, 0.15);\n",
              "      fill: #174EA6;\n",
              "    }\n",
              "\n",
              "    .colab-df-buttons div {\n",
              "      margin-bottom: 4px;\n",
              "    }\n",
              "\n",
              "    [theme=dark] .colab-df-convert {\n",
              "      background-color: #3B4455;\n",
              "      fill: #D2E3FC;\n",
              "    }\n",
              "\n",
              "    [theme=dark] .colab-df-convert:hover {\n",
              "      background-color: #434B5C;\n",
              "      box-shadow: 0px 1px 3px 1px rgba(0, 0, 0, 0.15);\n",
              "      filter: drop-shadow(0px 1px 2px rgba(0, 0, 0, 0.3));\n",
              "      fill: #FFFFFF;\n",
              "    }\n",
              "  </style>\n",
              "\n",
              "    <script>\n",
              "      const buttonEl =\n",
              "        document.querySelector('#df-7ca4864c-f8cd-419b-b9e7-8eb2d223fd4f button.colab-df-convert');\n",
              "      buttonEl.style.display =\n",
              "        google.colab.kernel.accessAllowed ? 'block' : 'none';\n",
              "\n",
              "      async function convertToInteractive(key) {\n",
              "        const element = document.querySelector('#df-7ca4864c-f8cd-419b-b9e7-8eb2d223fd4f');\n",
              "        const dataTable =\n",
              "          await google.colab.kernel.invokeFunction('convertToInteractive',\n",
              "                                                    [key], {});\n",
              "        if (!dataTable) return;\n",
              "\n",
              "        const docLinkHtml = 'Like what you see? Visit the ' +\n",
              "          '<a target=\"_blank\" href=https://colab.research.google.com/notebooks/data_table.ipynb>data table notebook</a>'\n",
              "          + ' to learn more about interactive tables.';\n",
              "        element.innerHTML = '';\n",
              "        dataTable['output_type'] = 'display_data';\n",
              "        await google.colab.output.renderOutput(dataTable, element);\n",
              "        const docLink = document.createElement('div');\n",
              "        docLink.innerHTML = docLinkHtml;\n",
              "        element.appendChild(docLink);\n",
              "      }\n",
              "    </script>\n",
              "  </div>\n",
              "\n",
              "\n",
              "    <div id=\"df-28a310f7-ec15-4cde-a678-ea1f203c760f\">\n",
              "      <button class=\"colab-df-quickchart\" onclick=\"quickchart('df-28a310f7-ec15-4cde-a678-ea1f203c760f')\"\n",
              "                title=\"Suggest charts\"\n",
              "                style=\"display:none;\">\n",
              "\n",
              "<svg xmlns=\"http://www.w3.org/2000/svg\" height=\"24px\"viewBox=\"0 0 24 24\"\n",
              "     width=\"24px\">\n",
              "    <g>\n",
              "        <path d=\"M19 3H5c-1.1 0-2 .9-2 2v14c0 1.1.9 2 2 2h14c1.1 0 2-.9 2-2V5c0-1.1-.9-2-2-2zM9 17H7v-7h2v7zm4 0h-2V7h2v10zm4 0h-2v-4h2v4z\"/>\n",
              "    </g>\n",
              "</svg>\n",
              "      </button>\n",
              "\n",
              "<style>\n",
              "  .colab-df-quickchart {\n",
              "      --bg-color: #E8F0FE;\n",
              "      --fill-color: #1967D2;\n",
              "      --hover-bg-color: #E2EBFA;\n",
              "      --hover-fill-color: #174EA6;\n",
              "      --disabled-fill-color: #AAA;\n",
              "      --disabled-bg-color: #DDD;\n",
              "  }\n",
              "\n",
              "  [theme=dark] .colab-df-quickchart {\n",
              "      --bg-color: #3B4455;\n",
              "      --fill-color: #D2E3FC;\n",
              "      --hover-bg-color: #434B5C;\n",
              "      --hover-fill-color: #FFFFFF;\n",
              "      --disabled-bg-color: #3B4455;\n",
              "      --disabled-fill-color: #666;\n",
              "  }\n",
              "\n",
              "  .colab-df-quickchart {\n",
              "    background-color: var(--bg-color);\n",
              "    border: none;\n",
              "    border-radius: 50%;\n",
              "    cursor: pointer;\n",
              "    display: none;\n",
              "    fill: var(--fill-color);\n",
              "    height: 32px;\n",
              "    padding: 0;\n",
              "    width: 32px;\n",
              "  }\n",
              "\n",
              "  .colab-df-quickchart:hover {\n",
              "    background-color: var(--hover-bg-color);\n",
              "    box-shadow: 0 1px 2px rgba(60, 64, 67, 0.3), 0 1px 3px 1px rgba(60, 64, 67, 0.15);\n",
              "    fill: var(--button-hover-fill-color);\n",
              "  }\n",
              "\n",
              "  .colab-df-quickchart-complete:disabled,\n",
              "  .colab-df-quickchart-complete:disabled:hover {\n",
              "    background-color: var(--disabled-bg-color);\n",
              "    fill: var(--disabled-fill-color);\n",
              "    box-shadow: none;\n",
              "  }\n",
              "\n",
              "  .colab-df-spinner {\n",
              "    border: 2px solid var(--fill-color);\n",
              "    border-color: transparent;\n",
              "    border-bottom-color: var(--fill-color);\n",
              "    animation:\n",
              "      spin 1s steps(1) infinite;\n",
              "  }\n",
              "\n",
              "  @keyframes spin {\n",
              "    0% {\n",
              "      border-color: transparent;\n",
              "      border-bottom-color: var(--fill-color);\n",
              "      border-left-color: var(--fill-color);\n",
              "    }\n",
              "    20% {\n",
              "      border-color: transparent;\n",
              "      border-left-color: var(--fill-color);\n",
              "      border-top-color: var(--fill-color);\n",
              "    }\n",
              "    30% {\n",
              "      border-color: transparent;\n",
              "      border-left-color: var(--fill-color);\n",
              "      border-top-color: var(--fill-color);\n",
              "      border-right-color: var(--fill-color);\n",
              "    }\n",
              "    40% {\n",
              "      border-color: transparent;\n",
              "      border-right-color: var(--fill-color);\n",
              "      border-top-color: var(--fill-color);\n",
              "    }\n",
              "    60% {\n",
              "      border-color: transparent;\n",
              "      border-right-color: var(--fill-color);\n",
              "    }\n",
              "    80% {\n",
              "      border-color: transparent;\n",
              "      border-right-color: var(--fill-color);\n",
              "      border-bottom-color: var(--fill-color);\n",
              "    }\n",
              "    90% {\n",
              "      border-color: transparent;\n",
              "      border-bottom-color: var(--fill-color);\n",
              "    }\n",
              "  }\n",
              "</style>\n",
              "\n",
              "      <script>\n",
              "        async function quickchart(key) {\n",
              "          const quickchartButtonEl =\n",
              "            document.querySelector('#' + key + ' button');\n",
              "          quickchartButtonEl.disabled = true;  // To prevent multiple clicks.\n",
              "          quickchartButtonEl.classList.add('colab-df-spinner');\n",
              "          try {\n",
              "            const charts = await google.colab.kernel.invokeFunction(\n",
              "                'suggestCharts', [key], {});\n",
              "          } catch (error) {\n",
              "            console.error('Error during call to suggestCharts:', error);\n",
              "          }\n",
              "          quickchartButtonEl.classList.remove('colab-df-spinner');\n",
              "          quickchartButtonEl.classList.add('colab-df-quickchart-complete');\n",
              "        }\n",
              "        (() => {\n",
              "          let quickchartButtonEl =\n",
              "            document.querySelector('#df-28a310f7-ec15-4cde-a678-ea1f203c760f button');\n",
              "          quickchartButtonEl.style.display =\n",
              "            google.colab.kernel.accessAllowed ? 'block' : 'none';\n",
              "        })();\n",
              "      </script>\n",
              "    </div>\n",
              "\n",
              "    </div>\n",
              "  </div>\n"
            ],
            "application/vnd.google.colaboratory.intrinsic+json": {
              "type": "dataframe",
              "summary": "{\n  \"name\": \"df2\",\n  \"rows\": 5,\n  \"fields\": [\n    {\n      \"column\": \"vigencia\",\n      \"properties\": {\n        \"dtype\": \"number\",\n        \"std\": 0,\n        \"min\": 2020,\n        \"max\": 2020,\n        \"num_unique_values\": 1,\n        \"samples\": [\n          2020\n        ],\n        \"semantic_type\": \"\",\n        \"description\": \"\"\n      }\n    },\n    {\n      \"column\": \"nombre_comuna_o_corregimiento\",\n      \"properties\": {\n        \"dtype\": \"category\",\n        \"num_unique_values\": 1,\n        \"samples\": [\n          \"LAS MARCADAS\"\n        ],\n        \"semantic_type\": \"\",\n        \"description\": \"\"\n      }\n    },\n    {\n      \"column\": \"rango_edades\",\n      \"properties\": {\n        \"dtype\": \"string\",\n        \"num_unique_values\": 5,\n        \"samples\": [\n          \"85-89\"\n        ],\n        \"semantic_type\": \"\",\n        \"description\": \"\"\n      }\n    },\n    {\n      \"column\": \"genero_masculino\",\n      \"properties\": {\n        \"dtype\": \"number\",\n        \"std\": 9,\n        \"min\": 1,\n        \"max\": 24,\n        \"num_unique_values\": 5,\n        \"samples\": [\n          13\n        ],\n        \"semantic_type\": \"\",\n        \"description\": \"\"\n      }\n    },\n    {\n      \"column\": \"genero_femenino\",\n      \"properties\": {\n        \"dtype\": \"number\",\n        \"std\": 13,\n        \"min\": 1,\n        \"max\": 35,\n        \"num_unique_values\": 5,\n        \"samples\": [\n          19\n        ],\n        \"semantic_type\": \"\",\n        \"description\": \"\"\n      }\n    },\n    {\n      \"column\": \"poblacion_estimada_global\",\n      \"properties\": {\n        \"dtype\": \"number\",\n        \"std\": 23,\n        \"min\": 2,\n        \"max\": 59,\n        \"num_unique_values\": 5,\n        \"samples\": [\n          32\n        ],\n        \"semantic_type\": \"\",\n        \"description\": \"\"\n      }\n    }\n  ]\n}"
            }
          },
          "metadata": {},
          "execution_count": 81
        }
      ]
    },
    {
      "cell_type": "code",
      "source": [
        "# Punto 13\n",
        "\n",
        "datos2 = {'Fecha': ['2024-01-10', '2024-04-20', '2024-07-15', '2024-10-01', '2024-12-25']}\n",
        "\n",
        "df3 = pd.DataFrame(datos2)\n",
        "\n",
        "df3['Fecha'] = pd.to_datetime(df3['Fecha'])\n",
        "\n",
        "meses = {\n",
        "    1: 'Enero', 2: 'Febrero', 3: 'Marzo', 4: 'Abril',\n",
        "    5: 'Mayo', 6: 'Junio', 7: 'Julio', 8: 'Agosto',\n",
        "    9: 'Septiembre', 10: 'Octubre', 11: 'Noviembre', 12: 'Diciembre'}\n",
        "\n",
        "df3['Mes'] = df3['Fecha'].dt.month.map(meses) #el .map reemplaza el valor del diccionario 'meses' luego de extraerlo de la fecha y la relaciona al nombre.\n",
        "\n",
        "print(df3)"
      ],
      "metadata": {
        "id": "Fh0z2llPlJOA",
        "colab": {
          "base_uri": "https://localhost:8080/"
        },
        "outputId": "3521e9e9-0d23-4b32-ae0e-7ab9cf6c9e29"
      },
      "execution_count": 82,
      "outputs": [
        {
          "output_type": "stream",
          "name": "stdout",
          "text": [
            "       Fecha        Mes\n",
            "0 2024-01-10      Enero\n",
            "1 2024-04-20      Abril\n",
            "2 2024-07-15      Julio\n",
            "3 2024-10-01    Octubre\n",
            "4 2024-12-25  Diciembre\n"
          ]
        }
      ]
    },
    {
      "cell_type": "code",
      "source": [
        "# Datos para los siguientes puntos de esta sección.\n",
        "\n",
        "Datos1 = {'Nombre': ['Pedro', 'Mariana', 'Andres', 'Laura', 'Felipe', 'Carlos', 'Alex'],\n",
        "    'Edad':[32, 28, 45, 37, 22, 23, 30],\n",
        "    'Ciudad':['Medellin', 'Bogotá', 'Bogota', 'Medellin', 'Pereira', 'Medellin', 'Medellín'],\n",
        "    'Salario' :[2100000, 1800000, 3200000, 2500000, 1900000, 2100000, 1850000]}"
      ],
      "metadata": {
        "id": "ATGcJDUhcqvG"
      },
      "execution_count": 83,
      "outputs": []
    },
    {
      "cell_type": "code",
      "source": [
        "# Punto 14\n",
        "\n",
        "df4 = pd.DataFrame(Datos1)\n",
        "\n",
        "salarioprom = df4.groupby('Ciudad')['Salario'].mean().astype(int)\n",
        "\n",
        "print('Salario promedio por ciudad:')\n",
        "print(salarioprom)"
      ],
      "metadata": {
        "id": "uofoNMOS-Zhs",
        "colab": {
          "base_uri": "https://localhost:8080/"
        },
        "outputId": "fbb33f51-cab9-42cd-f052-53de0e6ff404"
      },
      "execution_count": 84,
      "outputs": [
        {
          "output_type": "stream",
          "name": "stdout",
          "text": [
            "Salario promedio por ciudad:\n",
            "Ciudad\n",
            "Bogota      3200000\n",
            "Bogotá      1800000\n",
            "Medellin    2233333\n",
            "Medellín    1850000\n",
            "Pereira     1900000\n",
            "Name: Salario, dtype: int64\n"
          ]
        }
      ]
    },
    {
      "cell_type": "code",
      "source": [
        "# Punto 15\n",
        "\n",
        "df5 = pd.DataFrame(Datos1)\n",
        "\n",
        "df5 ['Menor de 30'] = df5['Edad'] < 30\n",
        "\n",
        "print(df5)"
      ],
      "metadata": {
        "id": "J1eM0OxfFpdM",
        "colab": {
          "base_uri": "https://localhost:8080/"
        },
        "outputId": "88563624-6bfa-4ed1-d3ef-e8aa9446a18c"
      },
      "execution_count": 85,
      "outputs": [
        {
          "output_type": "stream",
          "name": "stdout",
          "text": [
            "    Nombre  Edad    Ciudad  Salario  Menor de 30\n",
            "0    Pedro    32  Medellin  2100000        False\n",
            "1  Mariana    28    Bogotá  1800000         True\n",
            "2   Andres    45    Bogota  3200000        False\n",
            "3    Laura    37  Medellin  2500000        False\n",
            "4   Felipe    22   Pereira  1900000         True\n",
            "5   Carlos    23  Medellin  2100000         True\n",
            "6     Alex    30  Medellín  1850000        False\n"
          ]
        }
      ]
    },
    {
      "cell_type": "code",
      "source": [
        "# Punto 16\n",
        "\n",
        "Datos2 = { 'Salarios' : ['1950000', '2100000', '1600000', '1800000', '2000000', '1920000', 'Null', '1800000', 'Null' ],\n",
        "          'Nombre' : ['Pedro', 'Mariana', 'Andres', 'Laura', 'Felipe', 'Carlos', 'Alex', 'Sebastian', 'Felix']}\n",
        "\n",
        "df6 = pd.DataFrame(Datos2)\n",
        "\n",
        "df6.replace('Null', pd.NA, inplace=True)\n",
        "\n",
        "df6['Salarios'] = pd.to_numeric(df6['Salarios'], errors='coerce')\n",
        "\n",
        "print('valores nulos en \"Salarios\"')\n",
        "print(df6['Salarios'].isna())\n",
        "\n",
        "df6['Salario nulo'] = df6['Salarios'].isna()\n",
        "\n",
        "print('DataFrame final')\n",
        "print(df6)\n",
        "\n",
        "df6['Salarios'] = pd.to_numeric(df6['Salarios'], errors='coerce')\n",
        "\n",
        "salarioprom = df6['Salarios'].mean()\n",
        "print('El salario promedio es:', salarioprom)\n",
        "\n",
        "df6['Salario ajustado'] = df6['Salarios'].fillna(salarioprom)\n",
        "print(df6)"
      ],
      "metadata": {
        "colab": {
          "base_uri": "https://localhost:8080/"
        },
        "id": "v_h15bLiC49A",
        "outputId": "9c560030-cf11-4e0e-f782-1caa8b0c85d1"
      },
      "execution_count": 86,
      "outputs": [
        {
          "output_type": "stream",
          "name": "stdout",
          "text": [
            "valores nulos en \"Salarios\"\n",
            "0    False\n",
            "1    False\n",
            "2    False\n",
            "3    False\n",
            "4    False\n",
            "5    False\n",
            "6     True\n",
            "7    False\n",
            "8     True\n",
            "Name: Salarios, dtype: bool\n",
            "DataFrame final\n",
            "    Salarios     Nombre  Salario nulo\n",
            "0  1950000.0      Pedro         False\n",
            "1  2100000.0    Mariana         False\n",
            "2  1600000.0     Andres         False\n",
            "3  1800000.0      Laura         False\n",
            "4  2000000.0     Felipe         False\n",
            "5  1920000.0     Carlos         False\n",
            "6        NaN       Alex          True\n",
            "7  1800000.0  Sebastian         False\n",
            "8        NaN      Felix          True\n",
            "El salario promedio es: 1881428.5714285714\n",
            "    Salarios     Nombre  Salario nulo  Salario ajustado\n",
            "0  1950000.0      Pedro         False      1.950000e+06\n",
            "1  2100000.0    Mariana         False      2.100000e+06\n",
            "2  1600000.0     Andres         False      1.600000e+06\n",
            "3  1800000.0      Laura         False      1.800000e+06\n",
            "4  2000000.0     Felipe         False      2.000000e+06\n",
            "5  1920000.0     Carlos         False      1.920000e+06\n",
            "6        NaN       Alex          True      1.881429e+06\n",
            "7  1800000.0  Sebastian         False      1.800000e+06\n",
            "8        NaN      Felix          True      1.881429e+06\n"
          ]
        }
      ]
    },
    {
      "cell_type": "code",
      "source": [
        "# Punto 17\n",
        "\n",
        "df7 = pd.DataFrame([\n",
        "    ['Ana', 25, 'Bogotá', 25, 'Ana'],\n",
        "    ['Luis', 30, 'Medellín', 30, 'Luis'],\n",
        "    ['Carlos', 22, 'Cali', 22, 'Carlos']], columns=['Nombre', 'Edad', 'Ciudad', 'Edad', 'Nombre'])\n",
        "\n",
        "print('DataFrame con columnas duplicadas:')\n",
        "print(df7)\n",
        "\n",
        "DataframeCorregido = df7.loc[:, ~df7.columns.duplicated()]\n",
        "\n",
        "print('DataFrame sin columnas duplicadas:')\n",
        "print(DataframeCorregido)\n"
      ],
      "metadata": {
        "colab": {
          "base_uri": "https://localhost:8080/"
        },
        "id": "rrU3txZrJy-B",
        "outputId": "10e77422-a065-4a0e-d95d-e5b20451bb14"
      },
      "execution_count": 87,
      "outputs": [
        {
          "output_type": "stream",
          "name": "stdout",
          "text": [
            "DataFrame con columnas duplicadas:\n",
            "   Nombre  Edad    Ciudad  Edad  Nombre\n",
            "0     Ana    25    Bogotá    25     Ana\n",
            "1    Luis    30  Medellín    30    Luis\n",
            "2  Carlos    22      Cali    22  Carlos\n",
            "DataFrame sin columnas duplicadas:\n",
            "   Nombre  Edad    Ciudad\n",
            "0     Ana    25    Bogotá\n",
            "1    Luis    30  Medellín\n",
            "2  Carlos    22      Cali\n"
          ]
        }
      ]
    },
    {
      "cell_type": "code",
      "source": [
        "# Punto 18\n",
        "\n",
        "df8 = pd.DataFrame([\n",
        "    ['Ana', 25, 'Bogotá'],\n",
        "    ['Luis', 30, 'Medellín'],\n",
        "    ['Carlos', 22, 'Cali']], columns=['Nombre', 'Edad', 'Ciudad'])\n",
        "\n",
        "print(df8)\n",
        "\n",
        "dfordenado = df8.sort_values(by=['Ciudad', 'Edad'], ascending=[True, False])\n",
        "\n",
        "print(\"DataFrame ordenado:\")\n",
        "print(dfordenado)"
      ],
      "metadata": {
        "colab": {
          "base_uri": "https://localhost:8080/"
        },
        "id": "bTbe4VcfL_U3",
        "outputId": "ca9dff22-9673-4236-b69e-42e37f9fb944"
      },
      "execution_count": 88,
      "outputs": [
        {
          "output_type": "stream",
          "name": "stdout",
          "text": [
            "   Nombre  Edad    Ciudad\n",
            "0     Ana    25    Bogotá\n",
            "1    Luis    30  Medellín\n",
            "2  Carlos    22      Cali\n",
            "DataFrame ordenado:\n",
            "   Nombre  Edad    Ciudad\n",
            "0     Ana    25    Bogotá\n",
            "2  Carlos    22      Cali\n",
            "1    Luis    30  Medellín\n"
          ]
        }
      ]
    },
    {
      "cell_type": "code",
      "source": [
        "'SECCION :  Preguntas complejas'"
      ],
      "metadata": {
        "id": "Kb8j7jcmQyIG",
        "colab": {
          "base_uri": "https://localhost:8080/",
          "height": 36
        },
        "outputId": "cb2b7785-0cc1-4103-a8a6-467bdd6e98ce"
      },
      "execution_count": 89,
      "outputs": [
        {
          "output_type": "execute_result",
          "data": {
            "text/plain": [
              "'SECCION :  Preguntas complejas'"
            ],
            "application/vnd.google.colaboratory.intrinsic+json": {
              "type": "string"
            }
          },
          "metadata": {},
          "execution_count": 89
        }
      ]
    },
    {
      "cell_type": "code",
      "source": [
        "# Punto 19\n",
        "\n",
        "df9 = pd.DataFrame({\n",
        "'Producto': ['A', 'B', 'A', 'C', 'B', 'A'],\n",
        "'Precio': [1200, 1500, 1300, 1000, 1600, 1250],\n",
        "'Cantidad': [3, 2, 5, 1, 2, 4]\n",
        "})\n",
        "\n",
        "df9['Ingreso'] = df9['Precio'] * df9['Cantidad']\n",
        "\n",
        "ingresototal = df9.groupby('Producto')['Ingreso'].sum()\n",
        "\n",
        "ingresoordenado = ingresototal.sort_values(ascending=False)\n",
        "\n",
        "print(\"Ingreso total por producto:\")\n",
        "print(ingresoordenado)"
      ],
      "metadata": {
        "id": "JVpKPBmqQx9f",
        "colab": {
          "base_uri": "https://localhost:8080/"
        },
        "outputId": "1043cf39-517e-4a1f-b068-cf06336c61f6"
      },
      "execution_count": 90,
      "outputs": [
        {
          "output_type": "stream",
          "name": "stdout",
          "text": [
            "Ingreso total por producto:\n",
            "Producto\n",
            "A    15100\n",
            "B     6200\n",
            "C     1000\n",
            "Name: Ingreso, dtype: int64\n"
          ]
        }
      ]
    },
    {
      "cell_type": "code",
      "source": [
        "# Punto 20\n",
        "\n",
        "import pandas as pd\n",
        "import numpy as np\n",
        "\n",
        "productos = ['Laptop', 'Tablet', 'Teléfono', 'Monitor', 'Impresora']\n",
        "zonas = ['Norte', 'Sur', 'Este', 'Oeste']\n",
        "\n",
        "df10 = pd.DataFrame({\n",
        "    'fecha': pd.to_datetime(np.random.choice(pd.date_range(start='2024-01-01', end='2024-03-31'), 1000)),\n",
        "    'producto': np.random.choice(productos, 1000),\n",
        "    'cantidad': np.random.randint(1, 11, 1000),\n",
        "    'precio_unitario': np.random.randint(100000, 300001, 1000),\n",
        "    'zona': np.random.choice(zonas, 1000)})\n",
        "\n",
        "df10['ingreso'] = df10['cantidad'] * df10['precio_unitario']\n",
        "\n",
        "# ¿Cuál es el producto más vendido por zona?\n",
        "\n",
        "ventasxzona = df10.groupby(['zona', 'producto'])['cantidad'].sum().reset_index()\n",
        "\n",
        "productotopzona = ventasxzona.sort_values(['zona', 'cantidad'], ascending=[True, False]).groupby('zona').first()\n",
        "\n",
        "print(\"Producto más vendido por zona:\")\n",
        "print(productotopzona)\n",
        "\n",
        "# ¿Qué día del mes se obtienen más ingresos?\n",
        "\n",
        "df10['diames'] = df10['fecha'].dt.day\n",
        "\n",
        "ingresoxdia = df10.groupby('diames')['ingreso'].sum().sort_values(ascending=False)\n",
        "\n",
        "print(\"Ingreso total por día del mes:\")\n",
        "print(ingresoxdia)\n",
        "\n",
        "print(\"El día del mes con más ingresos es el día:\"),\n",
        "print(ingresoxdia.idxmax())"
      ],
      "metadata": {
        "id": "DR0grF4VRe-7",
        "colab": {
          "base_uri": "https://localhost:8080/"
        },
        "outputId": "265d4304-1a19-4227-eff1-8d14d8192268"
      },
      "execution_count": 91,
      "outputs": [
        {
          "output_type": "stream",
          "name": "stdout",
          "text": [
            "Producto más vendido por zona:\n",
            "        producto  cantidad\n",
            "zona                      \n",
            "Este   Impresora       279\n",
            "Norte  Impresora       331\n",
            "Oeste   Teléfono       339\n",
            "Sur       Laptop       415\n",
            "Ingreso total por día del mes:\n",
            "diames\n",
            "6     52044627\n",
            "5     49554170\n",
            "1     46871813\n",
            "11    46125059\n",
            "21    43649528\n",
            "18    41830285\n",
            "4     41589077\n",
            "8     41353337\n",
            "17    41334105\n",
            "28    37744639\n",
            "2     37599176\n",
            "10    36327130\n",
            "19    36174688\n",
            "14    35131713\n",
            "15    34427374\n",
            "7     34334307\n",
            "22    33107459\n",
            "3     33024963\n",
            "29    32455796\n",
            "12    32390118\n",
            "26    31829708\n",
            "23    31581817\n",
            "13    31434993\n",
            "24    31087546\n",
            "20    29826934\n",
            "25    29071940\n",
            "16    27273510\n",
            "31    27259230\n",
            "9     26718019\n",
            "27    20018713\n",
            "30    19295744\n",
            "Name: ingreso, dtype: int64\n",
            "El día del mes con más ingresos es el día:\n",
            "6\n"
          ]
        }
      ]
    }
  ]
}